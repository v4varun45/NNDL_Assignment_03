{
 "cells": [
  {
   "cell_type": "markdown",
   "metadata": {},
   "source": [
    "# 1)a"
   ]
  },
  {
   "cell_type": "code",
   "execution_count": 1,
   "metadata": {},
   "outputs": [
    {
     "name": "stdout",
     "output_type": "stream",
     "text": [
      "Sachin Tiwari is a Software Engineer\n",
      "John Duke is a Business Manager\n",
      "Total number of employees: 2\n"
     ]
    }
   ],
   "source": [
    "class Employee:\n",
    "    employee_count = 0\n",
    "\n",
    "    def __init__(self, name, designation):\n",
    "        self.name = name\n",
    "        self.designation = designation\n",
    "        \n",
    "        Employee.employee_count += 1\n",
    "\n",
    "\n",
    "employee1 = Employee(\"Sachin Tiwari\", \"Software Engineer\")\n",
    "employee2 = Employee(\"John Duke\", \"Business Manager\")\n",
    "\n",
    "\n",
    "print(f\"{employee1.name} is a {employee1.designation}\")\n",
    "print(f\"{employee2.name} is a {employee2.designation}\")\n",
    "\n",
    "print(f\"Total number of employees: {Employee.employee_count}\")\n"
   ]
  },
  {
   "cell_type": "markdown",
   "metadata": {},
   "source": [
    "# 1)b"
   ]
  },
  {
   "cell_type": "code",
   "execution_count": 2,
   "metadata": {},
   "outputs": [
    {
     "name": "stdout",
     "output_type": "stream",
     "text": [
      "Sachin Tiwari works in the IT Department and earns $45000\n",
      "John Duke works in the HR Department and earns $58000\n",
      "Sachin Tiwari's family name is Tiwari Family\n",
      "John Duke's family name is Duke Family\n"
     ]
    }
   ],
   "source": [
    "class Employee:\n",
    "    def __init__(self, name, family, salary, department):\n",
    "        self.name = name\n",
    "        self.family = family\n",
    "        self.salary = salary\n",
    "        self.department = department\n",
    "\n",
    "employee1 = Employee(\"Sachin Tiwari\", \"Tiwari Family\", 45000, \"IT Department\")\n",
    "employee2 = Employee(\"John Duke\", \"Duke Family\", 58000, \"HR Department\")\n",
    "\n",
    "\n",
    "print(f\"{employee1.name} works in the {employee1.department} and earns ${employee1.salary}\")\n",
    "print(f\"{employee2.name} works in the {employee2.department} and earns ${employee2.salary}\")\n",
    "print(f\"{employee1.name}'s family name is {employee1.family}\")\n",
    "print(f\"{employee2.name}'s family name is {employee2.family}\")"
   ]
  },
  {
   "cell_type": "markdown",
   "metadata": {},
   "source": [
    "# 1)c"
   ]
  },
  {
   "cell_type": "code",
   "execution_count": 3,
   "metadata": {},
   "outputs": [
    {
     "name": "stdout",
     "output_type": "stream",
     "text": [
      "Average salary of all employees: $54333.33\n"
     ]
    }
   ],
   "source": [
    "class Employee:\n",
    "    \n",
    "    all_employees = []\n",
    "\n",
    "    def __init__(self, name, family, salary, department):\n",
    "        self.name = name\n",
    "        self.family = family\n",
    "        self.salary = salary\n",
    "        self.department = department\n",
    "       \n",
    "        Employee.all_employees.append(self)\n",
    "\n",
    "    @classmethod\n",
    "    def average_salary(cls):\n",
    "       \n",
    "        total_salary = sum(employee.salary for employee in cls.all_employees)\n",
    "        average_salary = total_salary / len(cls.all_employees) if len(cls.all_employees) > 0 else 0\n",
    "        return average_salary\n",
    "\n",
    "\n",
    "employee1 = Employee(\"Sachin Tiwari\", \"Tiwari Family\", 45000, \"IT Department\")\n",
    "employee2 = Employee(\"Navya Sharma\", \"Sharma Family\", 60000, \"Finance Department\")\n",
    "employee3 = Employee(\"John Duke\", \"Duke Family\", 58000, \"HR Department\")\n",
    "\n",
    "\n",
    "\n",
    "\n",
    "average_salary = Employee.average_salary()\n",
    "print(f\"Average salary of all employees: ${average_salary:.2f}\")"
   ]
  },
  {
   "cell_type": "markdown",
   "metadata": {},
   "source": [
    "# 1)d"
   ]
  },
  {
   "cell_type": "code",
   "execution_count": 4,
   "metadata": {},
   "outputs": [
    {
     "name": "stdout",
     "output_type": "stream",
     "text": [
      "Sachin Tiwari works 46 hours per week in the IT Department department.\n",
      "Sachin Tiwari's salary is $45000\n"
     ]
    }
   ],
   "source": [
    "class Employee:\n",
    "    def __init__(self, name, family, salary, department):\n",
    "        self.name = name\n",
    "        self.family = family\n",
    "        self.salary = salary\n",
    "        self.department = department\n",
    "\n",
    "class FulltimeEmployee(Employee):\n",
    "    def __init__(self, name, family, salary, department, working_hours):\n",
    "      \n",
    "        super().__init__(name, family, salary, department)\n",
    "        self.working_hours = working_hours\n",
    "\n",
    "\n",
    "fulltime_employee = FulltimeEmployee(\"Sachin Tiwari\", \"Tiwari Family\", 45000, \"IT Department\", 46)\n",
    "\n",
    "\n",
    "print(f\"{fulltime_employee.name} works {fulltime_employee.working_hours} hours per week in the {fulltime_employee.department} department.\")\n",
    "print(f\"{fulltime_employee.name}'s salary is ${fulltime_employee.salary}\")"
   ]
  },
  {
   "cell_type": "markdown",
   "metadata": {},
   "source": [
    "# 1)e"
   ]
  },
  {
   "cell_type": "code",
   "execution_count": 5,
   "metadata": {},
   "outputs": [
    {
     "name": "stdout",
     "output_type": "stream",
     "text": [
      "Employee Information:\n",
      "Employee: Sachin Tiwari, Department: IT Department, Salary: $45000\n",
      "\n",
      "Fulltime Employee Information:\n",
      "Employee: Navya Sharma, Department: Finance Department, Salary: $60000\n",
      "Working Hours: 46 hours per week\n"
     ]
    }
   ],
   "source": [
    "class Employee:\n",
    "    def __init__(self, name, family, salary, department):\n",
    "        self.name = name\n",
    "        self.family = family\n",
    "        self.salary = salary\n",
    "        self.department = department\n",
    "\n",
    "    def display_info(self):\n",
    "        print(f\"Employee: {self.name}, Department: {self.department}, Salary: ${self.salary}\")\n",
    "\n",
    "class FulltimeEmployee(Employee):\n",
    "    def __init__(self, name, family, salary, department, working_hours):\n",
    "        super().__init__(name, family, salary, department)\n",
    "        self.working_hours = working_hours\n",
    "\n",
    "    def display_info(self):\n",
    "        super().display_info()\n",
    "        print(f\"Working Hours: {self.working_hours} hours per week\")\n",
    "\n",
    "\n",
    "employee = Employee(\"Sachin Tiwari\", \"Tiwari Family\", 45000, \"IT Department\")\n",
    "fulltime_employee = FulltimeEmployee(\"Navya Sharma\", \"Sharma Family\", 60000, \"Finance Department\", 46)\n",
    "\n",
    "\n",
    "print(\"Employee Information:\")\n",
    "employee.display_info()\n",
    "\n",
    "print(\"\\nFulltime Employee Information:\")\n",
    "fulltime_employee.display_info()"
   ]
  },
  {
   "cell_type": "markdown",
   "metadata": {},
   "source": [
    "# 2)"
   ]
  },
  {
   "cell_type": "code",
   "execution_count": 6,
   "metadata": {},
   "outputs": [
    {
     "data": {
      "text/plain": [
       "array([15.90956965, 10.97998826, 10.59139136,  7.50455076,  6.38808372,\n",
       "        9.35254733, 14.67248002,  2.51976654,  8.35476149,  7.96582503,\n",
       "       13.58085584, 11.92769847,  1.77773618, 11.73036626,  2.86917727,\n",
       "       18.64194389,  2.1765193 ,  7.46182031, 19.26295139,  3.66761856])"
      ]
     },
     "execution_count": 6,
     "metadata": {},
     "output_type": "execute_result"
    }
   ],
   "source": [
    "import numpy as np\n",
    "\n",
    "random_vector = np.random.uniform(1, 20, 20)\n",
    "random_vector\n"
   ]
  },
  {
   "cell_type": "code",
   "execution_count": 7,
   "metadata": {},
   "outputs": [
    {
     "data": {
      "text/plain": [
       "array([[15.90956965, 10.97998826, 10.59139136,  7.50455076,  6.38808372],\n",
       "       [ 9.35254733, 14.67248002,  2.51976654,  8.35476149,  7.96582503],\n",
       "       [13.58085584, 11.92769847,  1.77773618, 11.73036626,  2.86917727],\n",
       "       [18.64194389,  2.1765193 ,  7.46182031, 19.26295139,  3.66761856]])"
      ]
     },
     "execution_count": 7,
     "metadata": {},
     "output_type": "execute_result"
    }
   ],
   "source": [
    "reshaped_array = random_vector.reshape(4, 5)\n",
    "reshaped_array"
   ]
  },
  {
   "cell_type": "code",
   "execution_count": 8,
   "metadata": {},
   "outputs": [
    {
     "data": {
      "text/plain": [
       "array([[ 0.        , 10.97998826, 10.59139136,  7.50455076,  6.38808372],\n",
       "       [ 9.35254733,  0.        ,  2.51976654,  8.35476149,  7.96582503],\n",
       "       [ 0.        , 11.92769847,  1.77773618, 11.73036626,  2.86917727],\n",
       "       [18.64194389,  2.1765193 ,  7.46182031,  0.        ,  3.66761856]])"
      ]
     },
     "execution_count": 8,
     "metadata": {},
     "output_type": "execute_result"
    }
   ],
   "source": [
    "reshaped_array[np.arange(4), reshaped_array.argmax(axis=1)] = 0\n",
    "reshaped_array"
   ]
  },
  {
   "cell_type": "code",
   "execution_count": null,
   "metadata": {},
   "outputs": [],
   "source": []
  }
 ],
 "metadata": {
  "kernelspec": {
   "display_name": "Python 3",
   "language": "python",
   "name": "python3"
  },
  "language_info": {
   "codemirror_mode": {
    "name": "ipython",
    "version": 3
   },
   "file_extension": ".py",
   "mimetype": "text/x-python",
   "name": "python",
   "nbconvert_exporter": "python",
   "pygments_lexer": "ipython3",
   "version": "3.8.5"
  }
 },
 "nbformat": 4,
 "nbformat_minor": 4
}
